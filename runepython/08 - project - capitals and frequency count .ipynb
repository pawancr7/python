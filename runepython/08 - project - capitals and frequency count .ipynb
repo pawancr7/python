{
 "cells": [
  {
   "cell_type": "code",
   "execution_count": 2,
   "id": "cb0195d9",
   "metadata": {},
   "outputs": [],
   "source": [
    " import random"
   ]
  },
  {
   "cell_type": "code",
   "execution_count": 14,
   "id": "fff67a0f",
   "metadata": {},
   "outputs": [
    {
     "name": "stdout",
     "output_type": "stream",
     "text": [
      "what is the capital of india ?delhi\n",
      "correct! the capital of india is delhi!\n",
      "what is the capital of sweden ?stockholm\n",
      "correct! the capital of sweden is stockholm!\n",
      "what is the capital of india ?delhi\n",
      "correct! the capital of india is delhi!\n",
      "your score 3\n"
     ]
    }
   ],
   "source": [
    "capitals = {\"india\":\"delhi\",\"france\":\"paris\",\"sweden\":\"stockholm\"}\n",
    "\n",
    "\n",
    "score = 0\n",
    "\n",
    "\n",
    "for i in range (3):\n",
    "    country = random.choice(list(capitals.keys()))\n",
    "#     print(country)\n",
    "    answer = input (f\"what is the capital of {country} ?\")\n",
    "    \n",
    "    if answer.lower() == capitals[country].lower():\n",
    "        print(f\"correct! the capital of {country} is {capitals[country]}!\")\n",
    "        score  = score + 1 \n",
    "    else:\n",
    "        print(f\"incorrect! the capital of {country} is {capitals[country]}!\")\n",
    "        \n",
    "print(f\"your score {score}\")\n"
   ]
  },
  {
   "cell_type": "code",
   "execution_count": null,
   "id": "b7f04331",
   "metadata": {},
   "outputs": [],
   "source": []
  },
  {
   "cell_type": "markdown",
   "id": "623ba2f0",
   "metadata": {},
   "source": [
    "### Descriptio of frequency count\n",
    "#### - prompt the user for a line of text \n",
    "#### - use a dictionary to make frequency count of the letters\n",
    "#### - print the frequencies  "
   ]
  },
  {
   "cell_type": "code",
   "execution_count": 14,
   "id": "e5e10044",
   "metadata": {},
   "outputs": [
    {
     "name": "stdout",
     "output_type": "stream",
     "text": [
      "write a line of text: the united america \n",
      "t: 2\n",
      "h: 1\n",
      "e: 3\n",
      " : 3\n",
      "u: 1\n",
      "n: 1\n",
      "i: 2\n",
      "d: 1\n",
      "a: 2\n",
      "m: 1\n",
      "r: 1\n",
      "c: 1\n"
     ]
    }
   ],
   "source": [
    "text = input (\"write a line of text: \")\n",
    "\n",
    "freq  = {}\n",
    "\n",
    "\n",
    "for c in text:\n",
    "    c = c.lower()\n",
    "    freq[c] = freq.get(c,0) + 1\n",
    "    \n",
    " \n",
    "for key,value in freq.items():\n",
    "    print(f\"{key}: {value}\")"
   ]
  },
  {
   "cell_type": "code",
   "execution_count": null,
   "id": "c4534afd",
   "metadata": {},
   "outputs": [],
   "source": []
  },
  {
   "cell_type": "code",
   "execution_count": null,
   "id": "5fe7b22a",
   "metadata": {},
   "outputs": [],
   "source": []
  },
  {
   "cell_type": "code",
   "execution_count": null,
   "id": "c2af486b",
   "metadata": {},
   "outputs": [],
   "source": []
  },
  {
   "cell_type": "code",
   "execution_count": null,
   "id": "46423118",
   "metadata": {},
   "outputs": [],
   "source": []
  },
  {
   "cell_type": "code",
   "execution_count": null,
   "id": "ecbb81e0",
   "metadata": {},
   "outputs": [],
   "source": []
  },
  {
   "cell_type": "code",
   "execution_count": null,
   "id": "f2e6fce6",
   "metadata": {},
   "outputs": [],
   "source": []
  },
  {
   "cell_type": "code",
   "execution_count": null,
   "id": "a03bf87f",
   "metadata": {},
   "outputs": [],
   "source": []
  },
  {
   "cell_type": "code",
   "execution_count": null,
   "id": "4f4a7547",
   "metadata": {},
   "outputs": [],
   "source": []
  },
  {
   "cell_type": "code",
   "execution_count": null,
   "id": "8e2edbad",
   "metadata": {},
   "outputs": [],
   "source": []
  },
  {
   "cell_type": "code",
   "execution_count": null,
   "id": "c20ff3ac",
   "metadata": {},
   "outputs": [],
   "source": []
  },
  {
   "cell_type": "code",
   "execution_count": null,
   "id": "0ab2a521",
   "metadata": {},
   "outputs": [],
   "source": []
  }
 ],
 "metadata": {
  "kernelspec": {
   "display_name": "Python 3 (ipykernel)",
   "language": "python",
   "name": "python3"
  },
  "language_info": {
   "codemirror_mode": {
    "name": "ipython",
    "version": 3
   },
   "file_extension": ".py",
   "mimetype": "text/x-python",
   "name": "python",
   "nbconvert_exporter": "python",
   "pygments_lexer": "ipython3",
   "version": "3.10.10"
  }
 },
 "nbformat": 4,
 "nbformat_minor": 5
}
