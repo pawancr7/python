{
 "cells": [
  {
   "cell_type": "markdown",
   "id": "cb0d97ee",
   "metadata": {},
   "source": [
    "# project - hangaman"
   ]
  },
  {
   "cell_type": "code",
   "execution_count": 1,
   "id": "94432747",
   "metadata": {},
   "outputs": [],
   "source": [
    "import random\n"
   ]
  },
  {
   "cell_type": "code",
   "execution_count": 26,
   "id": "18efce78",
   "metadata": {},
   "outputs": [
    {
     "name": "stdout",
     "output_type": "stream",
     "text": [
      "you have10 turns left \n",
      "_  _  _  _  _  _  _  \n",
      "Guess a char :  a\n",
      "you have9 turns left \n",
      "_  _  _  _  _  _  _  \n",
      "Guess a char :  e\n",
      "you have8 turns left \n",
      "_  _  _  _  _  _  _  \n",
      "Guess a char :  f\n",
      "you have8 turns left \n",
      "f  _  _  _  _  _  _  \n",
      "Guess a char :  a\n",
      "you have7 turns left \n",
      "f  _  _  _  _  _  _  \n",
      "Guess a char :  i\n",
      "you have7 turns left \n",
      "f  i  _  _  i  _  _  \n",
      "Guess a char :  c\n",
      "you have7 turns left \n",
      "f  i  c  _  i  _  _  \n",
      "Guess a char :  t\n",
      "you have7 turns left \n",
      "f  i  c  t  i  _  _  \n",
      "Guess a char :  \n",
      "you have7 turns left \n",
      "f  i  c  t  i  _  _  \n",
      "Guess a char :  \n",
      "you have7 turns left \n",
      "f  i  c  t  i  _  _  \n",
      "Guess a char :  o\n",
      "you have7 turns left \n",
      "f  i  c  t  i  o  _  \n",
      "Guess a char :  \n",
      "you have7 turns left \n",
      "f  i  c  t  i  o  _  \n",
      "Guess a char :  n\n",
      "you have7 turns left \n",
      "f  i  c  t  i  o  n  \n"
     ]
    }
   ],
   "source": [
    "words = [\"father\",\"enterprise\",\"science\",\"programming\",\"resistance\",\"fiction\",\"condition\",\"reverse\",\"computer\",\"python\"]\n",
    "word = random.choice(words)\n",
    "#  word (chosse any random elements)\n",
    "\n",
    "guesses =  \" \"\n",
    "\n",
    "turns = 10 \n",
    "\n",
    "\n",
    "while turns > 0: \n",
    "    print(f\"you have{turns} turns left \")\n",
    "    \n",
    "    guessed_all  =  True  \n",
    "    \n",
    "    for c in word :\n",
    "        if c in guesses:\n",
    "            print(c, end = \"  \")\n",
    "        else :\n",
    "            print(\"_\",end = \"  \")\n",
    "            guessed_all = False \n",
    "    print()\n",
    "    \n",
    "    \n",
    "    if not guessed_all:\n",
    "        \n",
    "        guess = input(\"Guess a char :  \")\n",
    "        guesses = guesses + guess \n",
    "        if guess not in word:\n",
    "                turns = turns -1 \n",
    "    else : \n",
    "        turns = 0 \n",
    "             "
   ]
  },
  {
   "cell_type": "code",
   "execution_count": null,
   "id": "e2163819",
   "metadata": {},
   "outputs": [],
   "source": []
  },
  {
   "cell_type": "code",
   "execution_count": null,
   "id": "57fd20ac",
   "metadata": {},
   "outputs": [],
   "source": []
  },
  {
   "cell_type": "code",
   "execution_count": null,
   "id": "f73e1acb",
   "metadata": {},
   "outputs": [],
   "source": []
  },
  {
   "cell_type": "code",
   "execution_count": null,
   "id": "accc2384",
   "metadata": {},
   "outputs": [],
   "source": []
  }
 ],
 "metadata": {
  "kernelspec": {
   "display_name": "Python 3 (ipykernel)",
   "language": "python",
   "name": "python3"
  },
  "language_info": {
   "codemirror_mode": {
    "name": "ipython",
    "version": 3
   },
   "file_extension": ".py",
   "mimetype": "text/x-python",
   "name": "python",
   "nbconvert_exporter": "python",
   "pygments_lexer": "ipython3",
   "version": "3.10.10"
  }
 },
 "nbformat": 4,
 "nbformat_minor": 5
}
