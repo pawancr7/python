{
 "cells": [
  {
   "cell_type": "code",
   "execution_count": 4,
   "id": "9316dcfe",
   "metadata": {},
   "outputs": [
    {
     "name": "stdout",
     "output_type": "stream",
     "text": [
      "hello pawan\n"
     ]
    }
   ],
   "source": [
    "def myfunc():\n",
    "    print (\"hello pawan\")\n",
    "\n",
    "myfunc()"
   ]
  },
  {
   "cell_type": "code",
   "execution_count": 1,
   "id": "5f7efa40",
   "metadata": {},
   "outputs": [
    {
     "name": "stdout",
     "output_type": "stream",
     "text": [
      "hello name pawan\n"
     ]
    }
   ],
   "source": [
    "def print_name (name ):\n",
    "    print(f\"hello name {name}\")\n",
    "    \n",
    "print_name(\"pawan\")"
   ]
  },
  {
   "cell_type": "code",
   "execution_count": 2,
   "id": "dec5a8e8",
   "metadata": {},
   "outputs": [
    {
     "name": "stdout",
     "output_type": "stream",
     "text": [
      "hello name jens \n"
     ]
    }
   ],
   "source": [
    "print_name(\"jens \")"
   ]
  },
  {
   "cell_type": "code",
   "execution_count": 5,
   "id": "f8812a40",
   "metadata": {},
   "outputs": [],
   "source": [
    "def print_(name,age):\n",
    "    print(f\"hello {name}\")\n",
    "    print(f\" your are {age} years old\")\n"
   ]
  },
  {
   "cell_type": "code",
   "execution_count": 6,
   "id": "e4b61721",
   "metadata": {},
   "outputs": [
    {
     "name": "stdout",
     "output_type": "stream",
     "text": [
      "hello neha\n",
      " your are 49 years old\n"
     ]
    }
   ],
   "source": [
    "print_(\"neha\",49)"
   ]
  },
  {
   "cell_type": "code",
   "execution_count": 8,
   "id": "a4fa8641",
   "metadata": {},
   "outputs": [
    {
     "data": {
      "text/plain": [
       "30"
      ]
     },
     "execution_count": 8,
     "metadata": {},
     "output_type": "execute_result"
    }
   ],
   "source": [
    "def calculate_age (birth_year):\n",
    "    return 2022 - birth_year\n",
    "\n",
    "\n",
    "calculate_age(1992)"
   ]
  },
  {
   "cell_type": "markdown",
   "id": "683b5620",
   "metadata": {},
   "source": [
    "   # A feew things "
   ]
  },
  {
   "cell_type": "code",
   "execution_count": 9,
   "id": "e930a995",
   "metadata": {},
   "outputs": [
    {
     "data": {
      "text/plain": [
       "65"
      ]
     },
     "execution_count": 9,
     "metadata": {},
     "output_type": "execute_result"
    }
   ],
   "source": [
    "ord(\"A\")"
   ]
  },
  {
   "cell_type": "code",
   "execution_count": 10,
   "id": "e3e83978",
   "metadata": {},
   "outputs": [
    {
     "data": {
      "text/plain": [
       "98"
      ]
     },
     "execution_count": 10,
     "metadata": {},
     "output_type": "execute_result"
    }
   ],
   "source": [
    "ord(\"b\")\n",
    "# calculation of unique character "
   ]
  },
  {
   "cell_type": "code",
   "execution_count": 12,
   "id": "6a5ac230",
   "metadata": {},
   "outputs": [
    {
     "data": {
      "text/plain": [
       "'E'"
      ]
     },
     "execution_count": 12,
     "metadata": {},
     "output_type": "execute_result"
    }
   ],
   "source": [
    "chr(69)"
   ]
  },
  {
   "cell_type": "code",
   "execution_count": 17,
   "id": "bb5853f3",
   "metadata": {},
   "outputs": [
    {
     "name": "stdout",
     "output_type": "stream",
     "text": [
      "65 is A\n",
      "66 is B\n",
      "67 is C\n",
      "68 is D\n",
      "69 is E\n",
      "70 is F\n",
      "71 is G\n",
      "72 is H\n",
      "73 is I\n",
      "74 is J\n",
      "75 is K\n",
      "76 is L\n",
      "77 is M\n",
      "78 is N\n",
      "79 is O\n",
      "80 is P\n",
      "81 is Q\n",
      "82 is R\n",
      "83 is S\n",
      "84 is T\n",
      "85 is U\n",
      "86 is V\n",
      "87 is W\n",
      "88 is X\n",
      "89 is Y\n",
      "90 is Z\n"
     ]
    }
   ],
   "source": [
    "for c in range (65 ,65  + 26):\n",
    "    print (f\"{c} is {chr(c)}\")"
   ]
  },
  {
   "cell_type": "code",
   "execution_count": 19,
   "id": "7c574864",
   "metadata": {},
   "outputs": [
    {
     "data": {
      "text/plain": [
       "5"
      ]
     },
     "execution_count": 19,
     "metadata": {},
     "output_type": "execute_result"
    }
   ],
   "source": [
    "hours = 50\n",
    "\n",
    "(hours + 3 )% 24 "
   ]
  },
  {
   "cell_type": "code",
   "execution_count": 26,
   "id": "f2636463",
   "metadata": {},
   "outputs": [
    {
     "name": "stdout",
     "output_type": "stream",
     "text": [
      "even\n",
      "odd\n",
      "odd\n"
     ]
    }
   ],
   "source": [
    "def is_even (n):\n",
    "    if n % 2 == 0:\n",
    "            print(\"even\")\n",
    "    else :\n",
    "            print(\"odd\")\n",
    "is_even(2)\n",
    "is_even(5)\n",
    "is_even(9)"
   ]
  },
  {
   "cell_type": "code",
   "execution_count": 28,
   "id": "88d432b0",
   "metadata": {},
   "outputs": [
    {
     "name": "stdout",
     "output_type": "stream",
     "text": [
      "0 even\n",
      "1 odd\n",
      "2 even\n",
      "3 odd\n",
      "4 even\n",
      "5 odd\n",
      "6 even\n",
      "7 odd\n",
      "8 even\n",
      "9 odd\n"
     ]
    }
   ],
   "source": [
    "for i in range(10):\n",
    "    print(i,end=\" \")\n",
    "    is_even(i)"
   ]
  },
  {
   "cell_type": "code",
   "execution_count": null,
   "id": "ee27e982",
   "metadata": {},
   "outputs": [],
   "source": []
  },
  {
   "cell_type": "code",
   "execution_count": null,
   "id": "da5d0443",
   "metadata": {},
   "outputs": [],
   "source": []
  },
  {
   "cell_type": "code",
   "execution_count": null,
   "id": "a2d480ef",
   "metadata": {},
   "outputs": [],
   "source": []
  }
 ],
 "metadata": {
  "kernelspec": {
   "display_name": "Python 3 (ipykernel)",
   "language": "python",
   "name": "python3"
  },
  "language_info": {
   "codemirror_mode": {
    "name": "ipython",
    "version": 3
   },
   "file_extension": ".py",
   "mimetype": "text/x-python",
   "name": "python",
   "nbconvert_exporter": "python",
   "pygments_lexer": "ipython3",
   "version": "3.10.10"
  }
 },
 "nbformat": 4,
 "nbformat_minor": 5
}
