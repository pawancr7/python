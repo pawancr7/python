{
 "cells": [
  {
   "cell_type": "markdown",
   "id": "c36e034f",
   "metadata": {},
   "source": [
    "## loops "
   ]
  },
  {
   "cell_type": "code",
   "execution_count": 7,
   "id": "165c111d",
   "metadata": {},
   "outputs": [
    {
     "data": {
      "text/plain": [
       "['first', 'second', 'third']"
      ]
     },
     "execution_count": 7,
     "metadata": {},
     "output_type": "execute_result"
    }
   ],
   "source": [
    "my_list = [\"first\",\"second\",\"third\"]\n",
    "my_list"
   ]
  },
  {
   "cell_type": "code",
   "execution_count": 3,
   "id": "fc83a69d",
   "metadata": {},
   "outputs": [
    {
     "name": "stdout",
     "output_type": "stream",
     "text": [
      "first\n",
      "second\n",
      "third\n"
     ]
    }
   ],
   "source": [
    "for i in my_list:\n",
    "    print(i)"
   ]
  },
  {
   "cell_type": "code",
   "execution_count": 6,
   "id": "ba96c88f",
   "metadata": {},
   "outputs": [
    {
     "name": "stdout",
     "output_type": "stream",
     "text": [
      "p\n",
      "inside loop\n",
      "a\n",
      "inside loop\n",
      "w\n",
      "inside loop\n",
      "a\n",
      "inside loop\n",
      "n\n",
      "inside loop\n",
      "outside loops\n"
     ]
    }
   ],
   "source": [
    "s = \"pawan\"\n",
    "for i in s :\n",
    "    print(i)\n",
    "    print(\"inside loop\")\n",
    "print(\"outside loops\")"
   ]
  },
  {
   "cell_type": "code",
   "execution_count": 5,
   "id": "e7ee3e74",
   "metadata": {},
   "outputs": [
    {
     "name": "stdout",
     "output_type": "stream",
     "text": [
      "1\n",
      "2\n"
     ]
    }
   ],
   "source": [
    "for i in range(1,3):\n",
    "    print(i)"
   ]
  },
  {
   "cell_type": "code",
   "execution_count": 8,
   "id": "4040ffd8",
   "metadata": {},
   "outputs": [
    {
     "data": {
      "text/plain": [
       "['first', 'second', 'third']"
      ]
     },
     "execution_count": 8,
     "metadata": {},
     "output_type": "execute_result"
    }
   ],
   "source": [
    "my_list"
   ]
  },
  {
   "cell_type": "code",
   "execution_count": 12,
   "id": "a2b949aa",
   "metadata": {},
   "outputs": [
    {
     "name": "stdout",
     "output_type": "stream",
     "text": [
      "0 first\n",
      "1 second\n",
      "2 third\n"
     ]
    }
   ],
   "source": [
    "for i in range(len(my_list)):\n",
    "    print(i,my_list[i])"
   ]
  },
  {
   "cell_type": "code",
   "execution_count": 14,
   "id": "cfb17627",
   "metadata": {},
   "outputs": [
    {
     "name": "stdout",
     "output_type": "stream",
     "text": [
      "value ?4\n",
      "value ?5\n",
      "value ?3\n",
      "value ?2\n",
      "value ?4\n",
      "value ?23\n",
      "value ?43\n",
      "value ?65\n",
      "value ?54\n",
      "value ?23\n",
      "value ?65\n",
      "value ?234567\n",
      "value ?345670986\n",
      "value ?1\n",
      "value ?0\n"
     ]
    }
   ],
   "source": [
    "value = 10\n",
    "\n",
    "while value > 0:\n",
    "    value = int(input(\"value ?\"))"
   ]
  },
  {
   "cell_type": "markdown",
   "id": "1aaccb23",
   "metadata": {},
   "source": [
    "### A few new things \n"
   ]
  },
  {
   "cell_type": "code",
   "execution_count": 15,
   "id": "c112f84c",
   "metadata": {},
   "outputs": [
    {
     "name": "stdout",
     "output_type": "stream",
     "text": [
      "a is in s \n"
     ]
    }
   ],
   "source": [
    "s = \"abc \"\n",
    "c= \"a\"\n",
    "if c in s :\n",
    "    print(\"a is in s \")"
   ]
  },
  {
   "cell_type": "code",
   "execution_count": 16,
   "id": "ceee74dd",
   "metadata": {},
   "outputs": [],
   "source": [
    "if c not in s :\n",
    "    print(\"c is not in s \")"
   ]
  },
  {
   "cell_type": "code",
   "execution_count": 28,
   "id": "7c087234",
   "metadata": {},
   "outputs": [
    {
     "name": "stdout",
     "output_type": "stream",
     "text": [
      "cool\n"
     ]
    }
   ],
   "source": [
    "a = 10 \n",
    "b= 19 \n",
    "c= 14 \n",
    "if a > b or b > c :\n",
    "    print (\"cool\")\n"
   ]
  },
  {
   "cell_type": "code",
   "execution_count": 24,
   "id": "d9b12576",
   "metadata": {},
   "outputs": [],
   "source": []
  },
  {
   "cell_type": "code",
   "execution_count": null,
   "id": "b8bf22fa",
   "metadata": {},
   "outputs": [],
   "source": []
  },
  {
   "cell_type": "code",
   "execution_count": null,
   "id": "bf3430c7",
   "metadata": {},
   "outputs": [],
   "source": []
  },
  {
   "cell_type": "code",
   "execution_count": null,
   "id": "0c2b2892",
   "metadata": {},
   "outputs": [],
   "source": []
  }
 ],
 "metadata": {
  "kernelspec": {
   "display_name": "Python 3 (ipykernel)",
   "language": "python",
   "name": "python3"
  },
  "language_info": {
   "codemirror_mode": {
    "name": "ipython",
    "version": 3
   },
   "file_extension": ".py",
   "mimetype": "text/x-python",
   "name": "python",
   "nbconvert_exporter": "python",
   "pygments_lexer": "ipython3",
   "version": "3.10.10"
  }
 },
 "nbformat": 4,
 "nbformat_minor": 5
}
