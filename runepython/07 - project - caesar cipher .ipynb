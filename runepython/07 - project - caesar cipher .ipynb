{
 "cells": [
  {
   "cell_type": "markdown",
   "id": "f7ad1f4a",
   "metadata": {},
   "source": [
    "# caesar cipher pro\n"
   ]
  },
  {
   "cell_type": "markdown",
   "id": "71f64962",
   "metadata": {},
   "source": [
    "### implement helper function encrypt_char(char,key) to encrypt a single character ,char with key .\n",
    "### it can be usefull to use ord(),chr() and %"
   ]
  },
  {
   "cell_type": "code",
   "execution_count": 27,
   "id": "e3276df2",
   "metadata": {},
   "outputs": [],
   "source": [
    "def encrypt_char(char,key):\n",
    "    return chr(ord(\"A\") + (ord(char) - ord(\"A\") + key)  % 26 )\n"
   ]
  },
  {
   "cell_type": "code",
   "execution_count": 17,
   "id": "95bff099",
   "metadata": {},
   "outputs": [
    {
     "data": {
      "text/plain": [
       "'A'"
      ]
     },
     "execution_count": 17,
     "metadata": {},
     "output_type": "execute_result"
    }
   ],
   "source": [
    "# encrypt_char(\"Z\", 3)"
   ]
  },
  {
   "cell_type": "code",
   "execution_count": 40,
   "id": "480ee4b2",
   "metadata": {},
   "outputs": [],
   "source": [
    "def encrypt_message (message,key):\n",
    "        message = message.upper()\n",
    "        cipher = \" \"\n",
    "        for c in message:\n",
    "            if c in \" .,\":\n",
    "                cipher = cipher + c \n",
    "            else:\n",
    "                cipher = cipher + encrypt_char(c,key)\n",
    "        return cipher"
   ]
  },
  {
   "cell_type": "code",
   "execution_count": 41,
   "id": "bdd79868",
   "metadata": {},
   "outputs": [
    {
     "data": {
      "text/plain": [
       "' BRX DUH DZHVRPH '"
      ]
     },
     "execution_count": 41,
     "metadata": {},
     "output_type": "execute_result"
    }
   ],
   "source": [
    "encrypt_message(\"you are awesome \" ,3 )"
   ]
  },
  {
   "cell_type": "code",
   "execution_count": 44,
   "id": "3cf0f30c",
   "metadata": {},
   "outputs": [],
   "source": [
    "def decrypt_char(char,key):\n",
    "    return chr(ord(\"A\") + (ord(char) - ord(\"A\") + 26 -  key)  % 26 )"
   ]
  },
  {
   "cell_type": "code",
   "execution_count": 51,
   "id": "d34805cc",
   "metadata": {},
   "outputs": [],
   "source": [
    "def decrypt_message(cipher,key):\n",
    "    message = ' '\n",
    "    for c in cipher :\n",
    "        if c in \" ,.\":\n",
    "            message  = message + c \n",
    "        else :\n",
    "            message = message + decrypt_char(c,key)\n",
    "    return  message "
   ]
  },
  {
   "cell_type": "code",
   "execution_count": 54,
   "id": "712cd0c4",
   "metadata": {},
   "outputs": [
    {
     "data": {
      "text/plain": [
       "' YOU ARE AWESOME '"
      ]
     },
     "execution_count": 54,
     "metadata": {},
     "output_type": "execute_result"
    }
   ],
   "source": [
    "decrypt_message(\"BRX DUH DZHVRPH \",3)"
   ]
  },
  {
   "cell_type": "code",
   "execution_count": 56,
   "id": "8b96e7ac",
   "metadata": {},
   "outputs": [],
   "source": [
    "def decrypt_message2 (cipher, key ):\n",
    "    return encrypt_message (cipher , 26 - key )"
   ]
  },
  {
   "cell_type": "code",
   "execution_count": 57,
   "id": "e9daa1bb",
   "metadata": {},
   "outputs": [
    {
     "data": {
      "text/plain": [
       "' YOU ARE AWESOME'"
      ]
     },
     "execution_count": 57,
     "metadata": {},
     "output_type": "execute_result"
    }
   ],
   "source": [
    "decrypt_message2(\"BRX DUH DZHVRPH\",3)"
   ]
  },
  {
   "cell_type": "code",
   "execution_count": null,
   "id": "5e4eaaf4",
   "metadata": {},
   "outputs": [],
   "source": []
  },
  {
   "cell_type": "code",
   "execution_count": null,
   "id": "703704df",
   "metadata": {},
   "outputs": [],
   "source": []
  },
  {
   "cell_type": "code",
   "execution_count": null,
   "id": "9c7fa917",
   "metadata": {},
   "outputs": [],
   "source": []
  },
  {
   "cell_type": "code",
   "execution_count": null,
   "id": "18911b2b",
   "metadata": {},
   "outputs": [],
   "source": []
  },
  {
   "cell_type": "code",
   "execution_count": null,
   "id": "ab0dbef2",
   "metadata": {},
   "outputs": [],
   "source": []
  },
  {
   "cell_type": "code",
   "execution_count": null,
   "id": "1eae5b52",
   "metadata": {},
   "outputs": [],
   "source": []
  },
  {
   "cell_type": "code",
   "execution_count": null,
   "id": "b466e234",
   "metadata": {},
   "outputs": [],
   "source": []
  },
  {
   "cell_type": "code",
   "execution_count": null,
   "id": "84a3891e",
   "metadata": {},
   "outputs": [],
   "source": []
  },
  {
   "cell_type": "code",
   "execution_count": null,
   "id": "98342982",
   "metadata": {},
   "outputs": [],
   "source": []
  }
 ],
 "metadata": {
  "kernelspec": {
   "display_name": "Python 3 (ipykernel)",
   "language": "python",
   "name": "python3"
  },
  "language_info": {
   "codemirror_mode": {
    "name": "ipython",
    "version": 3
   },
   "file_extension": ".py",
   "mimetype": "text/x-python",
   "name": "python",
   "nbconvert_exporter": "python",
   "pygments_lexer": "ipython3",
   "version": "3.10.10"
  }
 },
 "nbformat": 4,
 "nbformat_minor": 5
}
