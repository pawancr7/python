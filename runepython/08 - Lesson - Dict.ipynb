{
 "cells": [
  {
   "cell_type": "code",
   "execution_count": 7,
   "id": "01b4fd64",
   "metadata": {},
   "outputs": [],
   "source": [
    "my_dict = {\n",
    "            \"key 1\": \" value 1 \",\n",
    "            \"key 2\": \"value 2 \"\n",
    "}"
   ]
  },
  {
   "cell_type": "code",
   "execution_count": 9,
   "id": "8ab06d31",
   "metadata": {},
   "outputs": [
    {
     "data": {
      "text/plain": [
       "' value 1 '"
      ]
     },
     "execution_count": 9,
     "metadata": {},
     "output_type": "execute_result"
    }
   ],
   "source": [
    "my_dict[\"key 1\"]"
   ]
  },
  {
   "cell_type": "code",
   "execution_count": 10,
   "id": "1522cf85",
   "metadata": {},
   "outputs": [
    {
     "data": {
      "text/plain": [
       "'value 2 '"
      ]
     },
     "execution_count": 10,
     "metadata": {},
     "output_type": "execute_result"
    }
   ],
   "source": [
    "my_dict[\"key 2\"]"
   ]
  },
  {
   "cell_type": "code",
   "execution_count": 13,
   "id": "356c6671",
   "metadata": {},
   "outputs": [],
   "source": [
    "my_dict[\"key 3\"] = \"value 3\""
   ]
  },
  {
   "cell_type": "code",
   "execution_count": 14,
   "id": "ef5b2806",
   "metadata": {},
   "outputs": [
    {
     "data": {
      "text/plain": [
       "{'key 1': ' value 1 ', 'key 2': 'value 2 ', 'key 3': 'value 3'}"
      ]
     },
     "execution_count": 14,
     "metadata": {},
     "output_type": "execute_result"
    }
   ],
   "source": [
    "my_dict\n"
   ]
  },
  {
   "cell_type": "code",
   "execution_count": 15,
   "id": "7419eb71",
   "metadata": {},
   "outputs": [],
   "source": [
    "my_dict[\"key 2\"]  = \"value 3\""
   ]
  },
  {
   "cell_type": "code",
   "execution_count": 16,
   "id": "efd615ef",
   "metadata": {},
   "outputs": [
    {
     "data": {
      "text/plain": [
       "{'key 1': ' value 1 ', 'key 2': 'value 3', 'key 3': 'value 3'}"
      ]
     },
     "execution_count": 16,
     "metadata": {},
     "output_type": "execute_result"
    }
   ],
   "source": [
    "my_dict"
   ]
  },
  {
   "cell_type": "code",
   "execution_count": 18,
   "id": "f513b1aa",
   "metadata": {},
   "outputs": [],
   "source": [
    "car = {\n",
    "        \"brand\" : \"porsche\",\n",
    "        \"model\": \"sian\",\n",
    "        \"year\": 2020\n",
    "    \n",
    "}"
   ]
  },
  {
   "cell_type": "code",
   "execution_count": 19,
   "id": "baee6728",
   "metadata": {},
   "outputs": [
    {
     "data": {
      "text/plain": [
       "{'brand': 'porsche', 'model': 'sian', 'year': 2020}"
      ]
     },
     "execution_count": 19,
     "metadata": {},
     "output_type": "execute_result"
    }
   ],
   "source": [
    "car"
   ]
  },
  {
   "cell_type": "code",
   "execution_count": 22,
   "id": "ce13c809",
   "metadata": {},
   "outputs": [],
   "source": [
    "items = [\"pen\",\"scissor\",\"pen\",\"scissor\",\"pen\"]"
   ]
  },
  {
   "cell_type": "code",
   "execution_count": 25,
   "id": "a5b985c6",
   "metadata": {},
   "outputs": [],
   "source": [
    "count = {}\n",
    "for item in items:\n",
    "    count[item] = count.get(item, 0 ) + 1 "
   ]
  },
  {
   "cell_type": "code",
   "execution_count": 26,
   "id": "df89c5ac",
   "metadata": {},
   "outputs": [
    {
     "data": {
      "text/plain": [
       "{'pen': 3, 'scissor': 2}"
      ]
     },
     "execution_count": 26,
     "metadata": {},
     "output_type": "execute_result"
    }
   ],
   "source": [
    "count "
   ]
  },
  {
   "cell_type": "code",
   "execution_count": 27,
   "id": "fd6c39bf",
   "metadata": {},
   "outputs": [
    {
     "name": "stdout",
     "output_type": "stream",
     "text": [
      "pen 3\n",
      "scissor 2\n"
     ]
    }
   ],
   "source": [
    "for key , value in count.items ():\n",
    "    print(key ,value)"
   ]
  },
  {
   "cell_type": "code",
   "execution_count": 32,
   "id": "2884593c",
   "metadata": {},
   "outputs": [
    {
     "name": "stdout",
     "output_type": "stream",
     "text": [
      "brand porsche\n",
      "model sian\n",
      "year 2020\n"
     ]
    }
   ],
   "source": [
    "for key ,value in car.items() :\n",
    "    print(key,value)"
   ]
  },
  {
   "cell_type": "code",
   "execution_count": 33,
   "id": "2212f41c",
   "metadata": {},
   "outputs": [
    {
     "data": {
      "text/plain": [
       "dict_keys(['brand', 'model', 'year'])"
      ]
     },
     "execution_count": 33,
     "metadata": {},
     "output_type": "execute_result"
    }
   ],
   "source": [
    "car.keys()"
   ]
  },
  {
   "cell_type": "code",
   "execution_count": 34,
   "id": "1a4d36e5",
   "metadata": {},
   "outputs": [
    {
     "data": {
      "text/plain": [
       "['brand', 'model', 'year']"
      ]
     },
     "execution_count": 34,
     "metadata": {},
     "output_type": "execute_result"
    }
   ],
   "source": [
    "list(car.keys())"
   ]
  },
  {
   "cell_type": "code",
   "execution_count": 36,
   "id": "09c99d67",
   "metadata": {},
   "outputs": [
    {
     "data": {
      "text/plain": [
       "list"
      ]
     },
     "execution_count": 36,
     "metadata": {},
     "output_type": "execute_result"
    }
   ],
   "source": [
    "type(list(car.keys()))"
   ]
  },
  {
   "cell_type": "code",
   "execution_count": 38,
   "id": "354b2ec7",
   "metadata": {},
   "outputs": [
    {
     "data": {
      "text/plain": [
       "dict_values(['porsche', 'sian', 2020])"
      ]
     },
     "execution_count": 38,
     "metadata": {},
     "output_type": "execute_result"
    }
   ],
   "source": [
    "car.values()"
   ]
  },
  {
   "cell_type": "code",
   "execution_count": null,
   "id": "ad00d389",
   "metadata": {},
   "outputs": [],
   "source": []
  }
 ],
 "metadata": {
  "kernelspec": {
   "display_name": "Python 3 (ipykernel)",
   "language": "python",
   "name": "python3"
  },
  "language_info": {
   "codemirror_mode": {
    "name": "ipython",
    "version": 3
   },
   "file_extension": ".py",
   "mimetype": "text/x-python",
   "name": "python",
   "nbconvert_exporter": "python",
   "pygments_lexer": "ipython3",
   "version": "3.10.10"
  }
 },
 "nbformat": 4,
 "nbformat_minor": 5
}
