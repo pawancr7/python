{
 "cells": [
  {
   "cell_type": "code",
   "execution_count": 1,
   "id": "b8cbfb3a",
   "metadata": {},
   "outputs": [],
   "source": [
    "import random"
   ]
  },
  {
   "cell_type": "code",
   "execution_count": 2,
   "id": "44fc64ff",
   "metadata": {},
   "outputs": [
    {
     "name": "stdout",
     "output_type": "stream",
     "text": [
      "what is 9 times 8?4\n",
      "Incorrect 9 times 8 is 4\n"
     ]
    }
   ],
   "source": [
    "a = random.randint(1,10)\n",
    "b = random.randint(1,10)\n",
    "answer = int(input(f\"what is {a} times {b}?\"))\n",
    "if answer == a*b:\n",
    "    print(f\"correct {a} times {b} is {answer}\")\n",
    "else:\n",
    "    print(f\"Incorrect {a} times {b} is {answer}\")"
   ]
  },
  {
   "cell_type": "markdown",
   "id": "e8372bf7",
   "metadata": {},
   "source": [
    "## rock ,paper ,scissor"
   ]
  },
  {
   "cell_type": "code",
   "execution_count": 3,
   "id": "c78a2429",
   "metadata": {},
   "outputs": [
    {
     "name": "stdout",
     "output_type": "stream",
     "text": [
      "enter choice: 1: Rock, 2:paper ,3: scissor\n",
      "choice (1/2/3): 1\n",
      "computer choice3\n",
      "you win \n"
     ]
    }
   ],
   "source": [
    "print(\"enter choice: 1: Rock, 2:paper ,3: scissor\")\n",
    "choice= int(input (\"choice (1/2/3): \"))\n",
    "\n",
    "computer_choice= random.randint(1,3)\n",
    "print(f\"computer choice{computer_choice}\")\n",
    "\n",
    "if choice == computer_choice:\n",
    "    print(\"draw\")\n",
    "\n",
    "elif choice == 1: # rock \n",
    "    if computer_choice == 2 : # paper\n",
    "        print(\"computer wins \")\n",
    "    else:\n",
    "        print(\"you win \")\n",
    "elif choice ==2 : # paper \n",
    "    if computer_choice == 1: #  rock \n",
    "        print(\"computer wins\")\n",
    "    else:\n",
    "        print(\"you win \")\n",
    "elif choice == 3 : #scissor \n",
    "    if computer_choice == 1: # rock\n",
    "         print(\"computer wins\")\n",
    "    else:\n",
    "        print(\"you win \")"
   ]
  },
  {
   "cell_type": "code",
   "execution_count": null,
   "id": "1b3c2610",
   "metadata": {},
   "outputs": [],
   "source": [
    "\n"
   ]
  },
  {
   "cell_type": "code",
   "execution_count": null,
   "id": "1d4b53be",
   "metadata": {},
   "outputs": [],
   "source": []
  },
  {
   "cell_type": "code",
   "execution_count": null,
   "id": "81da9db5",
   "metadata": {},
   "outputs": [],
   "source": []
  },
  {
   "cell_type": "code",
   "execution_count": null,
   "id": "ecc12547",
   "metadata": {},
   "outputs": [],
   "source": []
  },
  {
   "cell_type": "code",
   "execution_count": null,
   "id": "b53c3e86",
   "metadata": {},
   "outputs": [],
   "source": []
  },
  {
   "cell_type": "code",
   "execution_count": null,
   "id": "7cd63ea7",
   "metadata": {},
   "outputs": [],
   "source": []
  },
  {
   "cell_type": "code",
   "execution_count": null,
   "id": "e967221f",
   "metadata": {},
   "outputs": [],
   "source": []
  },
  {
   "cell_type": "code",
   "execution_count": null,
   "id": "e2c7afca",
   "metadata": {},
   "outputs": [],
   "source": []
  },
  {
   "cell_type": "code",
   "execution_count": null,
   "id": "6523575c",
   "metadata": {},
   "outputs": [],
   "source": []
  },
  {
   "cell_type": "code",
   "execution_count": null,
   "id": "2316c32f",
   "metadata": {},
   "outputs": [],
   "source": []
  },
  {
   "cell_type": "code",
   "execution_count": null,
   "id": "662b22e8",
   "metadata": {},
   "outputs": [],
   "source": []
  },
  {
   "cell_type": "code",
   "execution_count": null,
   "id": "05bb728f",
   "metadata": {},
   "outputs": [],
   "source": []
  },
  {
   "cell_type": "code",
   "execution_count": null,
   "id": "187925e8",
   "metadata": {},
   "outputs": [],
   "source": []
  },
  {
   "cell_type": "code",
   "execution_count": null,
   "id": "c387053d",
   "metadata": {},
   "outputs": [],
   "source": []
  },
  {
   "cell_type": "code",
   "execution_count": null,
   "id": "f8c06fce",
   "metadata": {},
   "outputs": [],
   "source": []
  },
  {
   "cell_type": "code",
   "execution_count": null,
   "id": "02a59c21",
   "metadata": {},
   "outputs": [],
   "source": []
  },
  {
   "cell_type": "code",
   "execution_count": null,
   "id": "e6b49223",
   "metadata": {},
   "outputs": [],
   "source": []
  },
  {
   "cell_type": "code",
   "execution_count": null,
   "id": "d463690d",
   "metadata": {},
   "outputs": [],
   "source": []
  },
  {
   "cell_type": "code",
   "execution_count": null,
   "id": "97166e0f",
   "metadata": {},
   "outputs": [],
   "source": []
  },
  {
   "cell_type": "code",
   "execution_count": null,
   "id": "98b397f2",
   "metadata": {},
   "outputs": [],
   "source": []
  },
  {
   "cell_type": "code",
   "execution_count": null,
   "id": "5b302bae",
   "metadata": {},
   "outputs": [],
   "source": []
  }
 ],
 "metadata": {
  "kernelspec": {
   "display_name": "Python 3 (ipykernel)",
   "language": "python",
   "name": "python3"
  },
  "language_info": {
   "codemirror_mode": {
    "name": "ipython",
    "version": 3
   },
   "file_extension": ".py",
   "mimetype": "text/x-python",
   "name": "python",
   "nbconvert_exporter": "python",
   "pygments_lexer": "ipython3",
   "version": "3.10.10"
  }
 },
 "nbformat": 4,
 "nbformat_minor": 5
}
