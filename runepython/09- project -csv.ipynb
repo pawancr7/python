{
 "cells": [
  {
   "cell_type": "code",
   "execution_count": 1,
   "id": "043e0b4e",
   "metadata": {},
   "outputs": [],
   "source": [
    "import csv\n"
   ]
  },
  {
   "cell_type": "code",
   "execution_count": 2,
   "id": "1ac327ee",
   "metadata": {},
   "outputs": [],
   "source": [
    "with open (\"data/cars.csv\",\"r\") as f:\n",
    "    csv_reader = csv.DictReader(f)\n",
    "    cars = list(csv_reader)"
   ]
  },
  {
   "cell_type": "code",
   "execution_count": 3,
   "id": "b06316e5",
   "metadata": {},
   "outputs": [
    {
     "data": {
      "text/plain": [
       "{'Height': '140',\n",
       " 'Length': '143',\n",
       " 'Width': '202',\n",
       " 'Engine Driveline': 'All-wheel drive',\n",
       " 'Engine Type': 'Audi 3.2L 6 cylinder 250hp 236ft-lbs',\n",
       " 'Engine Hybrid': 'True',\n",
       " 'Number of Forward Gears': '6',\n",
       " 'Engine Transmission': '6 Speed Automatic Select Shift',\n",
       " 'Fuel City mpg': '18',\n",
       " 'Fuel Type': 'Gasoline',\n",
       " 'Fuel Highway mpg': '25',\n",
       " 'Classification': 'Automatic transmission',\n",
       " 'ID': '2009 Audi A3 3.2',\n",
       " 'Make': 'Audi',\n",
       " 'Model Year': '2009 Audi A3',\n",
       " 'Year': '2009',\n",
       " 'Horsepower': '250',\n",
       " 'Torque': '236'}"
      ]
     },
     "execution_count": 3,
     "metadata": {},
     "output_type": "execute_result"
    }
   ],
   "source": [
    "cars[0]"
   ]
  },
  {
   "cell_type": "code",
   "execution_count": 5,
   "id": "59fb954c",
   "metadata": {},
   "outputs": [],
   "source": [
    "car_brands = {}\n",
    "for car in cars:\n",
    "    car_brands[car[\"Make\"]] = car_brands.get(car[\"Make\"],[]) + [car[\"Horsepower\"]]"
   ]
  },
  {
   "cell_type": "code",
   "execution_count": 7,
   "id": "ee823d45",
   "metadata": {
    "scrolled": true
   },
   "outputs": [],
   "source": [
    "# car_brands[\"Audi\"]"
   ]
  },
  {
   "cell_type": "code",
   "execution_count": 9,
   "id": "86e6e006",
   "metadata": {},
   "outputs": [],
   "source": [
    "car_brand_hp = {}\n",
    "\n",
    "for car_brand ,hp_list in car_brands.items():\n",
    "    hp_sum = 0\n",
    "    for hp in hp_list:\n",
    "        hp_sum = hp_sum + int(hp)\n",
    "    car_brand_hp[car_brand] = hp_sum /len(hp_list) "
   ]
  },
  {
   "cell_type": "code",
   "execution_count": 10,
   "id": "26a1e679",
   "metadata": {},
   "outputs": [
    {
     "data": {
      "text/plain": [
       "{'Audi': 300.18390804597703,\n",
       " 'Acura': 262.8484848484849,\n",
       " 'BMW': 347.18045112781954,\n",
       " 'Chevrolet': 294.8083067092652,\n",
       " 'Nissan': 269.2142857142857,\n",
       " 'Volvo': 247.24271844660194,\n",
       " 'Bentley': 577.4444444444445,\n",
       " 'Toyota': 253.44923076923078,\n",
       " 'Honda': 188.225,\n",
       " 'Ford': 275.4112769485904,\n",
       " 'Rolls-Royce': 475.0,\n",
       " 'Volkswagen': 192.49612403100775,\n",
       " 'Maybach': 599.8461538461538,\n",
       " 'Lamborghini': 554.8,\n",
       " 'Lexus': 301.61538461538464,\n",
       " 'Hyundai': 207.3031914893617,\n",
       " 'Mercedes': 280.21875,\n",
       " 'BMW Motorrad': 233.6206896551724,\n",
       " 'Kia': 179.74074074074073,\n",
       " 'AMG': 525.9,\n",
       " 'Mazda': 187.14880952380952,\n",
       " 'Mercedes-Benz': 388.42857142857144,\n",
       " 'Mercedes-AMG': 494.8333333333333,\n",
       " 'Mitsubishi': 195.35294117647058,\n",
       " 'Cadillac': 340.98,\n",
       " 'Infiniti': 322.1294117647059,\n",
       " 'Dodge': 303.93461538461537,\n",
       " 'Lincoln': 290.5581395348837,\n",
       " 'GMC': 285.9755434782609,\n",
       " 'Porsche': 376.54901960784315,\n",
       " 'Jeep': 207.60504201680672,\n",
       " 'Subaru': 205.2095238095238,\n",
       " 'Buick': 249.88732394366198,\n",
       " 'Suzuki': 185.13725490196077,\n",
       " 'Saab': 222.54237288135593,\n",
       " 'Aston Martin': 470.0,\n",
       " 'Grand Cherokee': 320.0625,\n",
       " 'Land Rover': 373.85714285714283,\n",
       " 'Chrysler': 246.7,\n",
       " 'Ferrari': 540.0,\n",
       " 'Scion': 156.6153846153846,\n",
       " 'MINI': 160.96774193548387,\n",
       " 'Jaguar': 448.75,\n",
       " 'Chrysler Group LLC': 279.1666666666667,\n",
       " 'Lotus': 231.0,\n",
       " 'Maserati': 422.5,\n",
       " 'Mercury': 205.21428571428572}"
      ]
     },
     "execution_count": 10,
     "metadata": {},
     "output_type": "execute_result"
    }
   ],
   "source": [
    "car_brand_hp"
   ]
  },
  {
   "cell_type": "code",
   "execution_count": null,
   "id": "5382b376",
   "metadata": {},
   "outputs": [],
   "source": []
  },
  {
   "cell_type": "code",
   "execution_count": null,
   "id": "20be35f7",
   "metadata": {},
   "outputs": [],
   "source": []
  },
  {
   "cell_type": "code",
   "execution_count": null,
   "id": "5a3a572f",
   "metadata": {},
   "outputs": [],
   "source": []
  },
  {
   "cell_type": "code",
   "execution_count": null,
   "id": "04bb98c5",
   "metadata": {},
   "outputs": [],
   "source": []
  },
  {
   "cell_type": "code",
   "execution_count": null,
   "id": "cd58fa6c",
   "metadata": {},
   "outputs": [],
   "source": []
  },
  {
   "cell_type": "code",
   "execution_count": null,
   "id": "8289b972",
   "metadata": {},
   "outputs": [],
   "source": []
  },
  {
   "cell_type": "code",
   "execution_count": null,
   "id": "b0c8485c",
   "metadata": {},
   "outputs": [],
   "source": []
  },
  {
   "cell_type": "code",
   "execution_count": null,
   "id": "daa9514a",
   "metadata": {},
   "outputs": [],
   "source": []
  },
  {
   "cell_type": "code",
   "execution_count": null,
   "id": "ff49ff09",
   "metadata": {},
   "outputs": [],
   "source": []
  },
  {
   "cell_type": "code",
   "execution_count": null,
   "id": "95fc865d",
   "metadata": {},
   "outputs": [],
   "source": []
  },
  {
   "cell_type": "code",
   "execution_count": null,
   "id": "39d68c77",
   "metadata": {},
   "outputs": [],
   "source": []
  }
 ],
 "metadata": {
  "kernelspec": {
   "display_name": "Python 3 (ipykernel)",
   "language": "python",
   "name": "python3"
  },
  "language_info": {
   "codemirror_mode": {
    "name": "ipython",
    "version": 3
   },
   "file_extension": ".py",
   "mimetype": "text/x-python",
   "name": "python",
   "nbconvert_exporter": "python",
   "pygments_lexer": "ipython3",
   "version": "3.10.10"
  }
 },
 "nbformat": 4,
 "nbformat_minor": 5
}
