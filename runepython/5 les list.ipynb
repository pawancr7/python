{
 "cells": [
  {
   "cell_type": "code",
   "execution_count": 15,
   "id": "977db2f0",
   "metadata": {},
   "outputs": [
    {
     "data": {
      "text/plain": [
       "['red', 'blue', 'yellow']"
      ]
     },
     "execution_count": 15,
     "metadata": {},
     "output_type": "execute_result"
    }
   ],
   "source": [
    "color = [\"red\",\"blue\",\"yellow\"]\n",
    "color"
   ]
  },
  {
   "cell_type": "code",
   "execution_count": 2,
   "id": "7ba16b66",
   "metadata": {},
   "outputs": [
    {
     "data": {
      "text/plain": [
       "'red'"
      ]
     },
     "execution_count": 2,
     "metadata": {},
     "output_type": "execute_result"
    }
   ],
   "source": [
    "color[0]"
   ]
  },
  {
   "cell_type": "code",
   "execution_count": 3,
   "id": "d0d7d852",
   "metadata": {},
   "outputs": [
    {
     "data": {
      "text/plain": [
       "'yellow'"
      ]
     },
     "execution_count": 3,
     "metadata": {},
     "output_type": "execute_result"
    }
   ],
   "source": [
    "color[2]"
   ]
  },
  {
   "cell_type": "code",
   "execution_count": 4,
   "id": "250af996",
   "metadata": {},
   "outputs": [
    {
     "data": {
      "text/plain": [
       "'yellow'"
      ]
     },
     "execution_count": 4,
     "metadata": {},
     "output_type": "execute_result"
    }
   ],
   "source": [
    "color[-1]"
   ]
  },
  {
   "cell_type": "code",
   "execution_count": 5,
   "id": "39dca5a1",
   "metadata": {},
   "outputs": [
    {
     "data": {
      "text/plain": [
       "'red'"
      ]
     },
     "execution_count": 5,
     "metadata": {},
     "output_type": "execute_result"
    }
   ],
   "source": [
    "color[-3]"
   ]
  },
  {
   "cell_type": "code",
   "execution_count": 6,
   "id": "52965214",
   "metadata": {},
   "outputs": [
    {
     "data": {
      "text/plain": [
       "'yellow'"
      ]
     },
     "execution_count": 6,
     "metadata": {},
     "output_type": "execute_result"
    }
   ],
   "source": [
    "color.pop()"
   ]
  },
  {
   "cell_type": "code",
   "execution_count": 16,
   "id": "93833ee9",
   "metadata": {},
   "outputs": [
    {
     "data": {
      "text/plain": [
       "['red', 'blue', 'yellow']"
      ]
     },
     "execution_count": 16,
     "metadata": {},
     "output_type": "execute_result"
    }
   ],
   "source": [
    "color\n"
   ]
  },
  {
   "cell_type": "code",
   "execution_count": 17,
   "id": "7a024fd5",
   "metadata": {},
   "outputs": [],
   "source": [
    "color.append(\"green\")"
   ]
  },
  {
   "cell_type": "code",
   "execution_count": 18,
   "id": "8dd95958",
   "metadata": {},
   "outputs": [
    {
     "data": {
      "text/plain": [
       "['red', 'blue', 'yellow', 'green']"
      ]
     },
     "execution_count": 18,
     "metadata": {},
     "output_type": "execute_result"
    }
   ],
   "source": [
    "color\n"
   ]
  },
  {
   "cell_type": "code",
   "execution_count": 19,
   "id": "75dbe900",
   "metadata": {},
   "outputs": [
    {
     "data": {
      "text/plain": [
       "['brown', 'black']"
      ]
     },
     "execution_count": 19,
     "metadata": {},
     "output_type": "execute_result"
    }
   ],
   "source": [
    "color2 = [\"brown\",\"black\"]\n",
    "color2"
   ]
  },
  {
   "cell_type": "code",
   "execution_count": 20,
   "id": "9f1cab81",
   "metadata": {},
   "outputs": [
    {
     "data": {
      "text/plain": [
       "['red', 'blue', 'yellow', 'green', 'brown', 'black']"
      ]
     },
     "execution_count": 20,
     "metadata": {},
     "output_type": "execute_result"
    }
   ],
   "source": [
    "color + color2"
   ]
  },
  {
   "cell_type": "code",
   "execution_count": 21,
   "id": "949160e2",
   "metadata": {},
   "outputs": [],
   "source": [
    "color3 = color+ color2"
   ]
  },
  {
   "cell_type": "code",
   "execution_count": 22,
   "id": "5d9bcbaf",
   "metadata": {},
   "outputs": [
    {
     "data": {
      "text/plain": [
       "['red', 'blue', 'yellow', 'green', 'brown', 'black']"
      ]
     },
     "execution_count": 22,
     "metadata": {},
     "output_type": "execute_result"
    }
   ],
   "source": [
    "color3"
   ]
  },
  {
   "cell_type": "code",
   "execution_count": 23,
   "id": "6703ce65",
   "metadata": {},
   "outputs": [],
   "source": [
    "import random"
   ]
  },
  {
   "cell_type": "code",
   "execution_count": 28,
   "id": "7318a0a2",
   "metadata": {},
   "outputs": [
    {
     "data": {
      "text/plain": [
       "'red'"
      ]
     },
     "execution_count": 28,
     "metadata": {},
     "output_type": "execute_result"
    }
   ],
   "source": [
    "random.choice(color3)"
   ]
  },
  {
   "cell_type": "code",
   "execution_count": 31,
   "id": "03045eac",
   "metadata": {},
   "outputs": [
    {
     "data": {
      "text/plain": [
       "['yellow', 'blue', 'red', 'black', 'brown', 'green']"
      ]
     },
     "execution_count": 31,
     "metadata": {},
     "output_type": "execute_result"
    }
   ],
   "source": [
    "random.shuffle(color3)\n",
    "color3"
   ]
  },
  {
   "cell_type": "code",
   "execution_count": 36,
   "id": "1b21772b",
   "metadata": {},
   "outputs": [
    {
     "data": {
      "text/plain": [
       "'yellow      blue      red      black      brown      green'"
      ]
     },
     "execution_count": 36,
     "metadata": {},
     "output_type": "execute_result"
    }
   ],
   "source": [
    "\"      \".join(color3)"
   ]
  },
  {
   "cell_type": "code",
   "execution_count": null,
   "id": "e82e901a",
   "metadata": {},
   "outputs": [],
   "source": []
  },
  {
   "cell_type": "code",
   "execution_count": null,
   "id": "6b24d572",
   "metadata": {},
   "outputs": [],
   "source": []
  },
  {
   "cell_type": "code",
   "execution_count": null,
   "id": "0d042574",
   "metadata": {},
   "outputs": [],
   "source": []
  },
  {
   "cell_type": "code",
   "execution_count": null,
   "id": "8f8c4545",
   "metadata": {},
   "outputs": [],
   "source": []
  },
  {
   "cell_type": "code",
   "execution_count": null,
   "id": "f194d97b",
   "metadata": {},
   "outputs": [],
   "source": []
  },
  {
   "cell_type": "code",
   "execution_count": null,
   "id": "5d1308e9",
   "metadata": {},
   "outputs": [],
   "source": []
  }
 ],
 "metadata": {
  "kernelspec": {
   "display_name": "Python 3 (ipykernel)",
   "language": "python",
   "name": "python3"
  },
  "language_info": {
   "codemirror_mode": {
    "name": "ipython",
    "version": 3
   },
   "file_extension": ".py",
   "mimetype": "text/x-python",
   "name": "python",
   "nbconvert_exporter": "python",
   "pygments_lexer": "ipython3",
   "version": "3.10.10"
  }
 },
 "nbformat": 4,
 "nbformat_minor": 5
}
