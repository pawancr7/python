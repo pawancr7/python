{
 "cells": [
  {
   "cell_type": "markdown",
   "id": "15c4ceee",
   "metadata": {},
   "source": [
    "# CSV files "
   ]
  },
  {
   "cell_type": "code",
   "execution_count": 24,
   "id": "c0b1b899",
   "metadata": {},
   "outputs": [],
   "source": [
    "import csv "
   ]
  },
  {
   "cell_type": "code",
   "execution_count": 25,
   "id": "4b960738",
   "metadata": {},
   "outputs": [],
   "source": [
    "with open(\"data/namerecords.csv\",\"r\") as  f:\n",
    "    csv_reader = csv.DictReader(f)\n",
    "    name_records = list(csv_reader)"
   ]
  },
  {
   "cell_type": "code",
   "execution_count": 26,
   "id": "d87a3c60",
   "metadata": {},
   "outputs": [
    {
     "data": {
      "text/plain": [
       "[{'First name': 'Connar', 'Last name': 'Ward', 'Age': '15'},\n",
       " {'First name': 'Rose', 'Last name': 'Peterson', 'Age': '18'},\n",
       " {'First name': 'Paul', 'Last name': 'Cox', 'Age': '12'},\n",
       " {'First name': 'Hanna', 'Last name': 'Hicks', 'Age': '10'}]"
      ]
     },
     "execution_count": 26,
     "metadata": {},
     "output_type": "execute_result"
    }
   ],
   "source": [
    "name_records"
   ]
  },
  {
   "cell_type": "code",
   "execution_count": 27,
   "id": "23cd3f4a",
   "metadata": {},
   "outputs": [
    {
     "data": {
      "text/plain": [
       "'15'"
      ]
     },
     "execution_count": 27,
     "metadata": {},
     "output_type": "execute_result"
    }
   ],
   "source": [
    "name_records[0][\"Age\"]"
   ]
  },
  {
   "cell_type": "code",
   "execution_count": 28,
   "id": "3e9bc642",
   "metadata": {},
   "outputs": [
    {
     "data": {
      "text/plain": [
       "'Peterson'"
      ]
     },
     "execution_count": 28,
     "metadata": {},
     "output_type": "execute_result"
    }
   ],
   "source": [
    "name_records[1]['Last name']"
   ]
  },
  {
   "cell_type": "code",
   "execution_count": 31,
   "id": "c8e59e3e",
   "metadata": {},
   "outputs": [
    {
     "ename": "SyntaxError",
     "evalue": "f-string: unmatched '[' (4148185128.py, line 2)",
     "output_type": "error",
     "traceback": [
      "\u001b[1;36m  Cell \u001b[1;32mIn[31], line 2\u001b[1;36m\u001b[0m\n\u001b[1;33m    print(f\" {record[\"First name\"]} {record[\"Last name\"]} : {record[\"Age\"]}\")\u001b[0m\n\u001b[1;37m                      ^\u001b[0m\n\u001b[1;31mSyntaxError\u001b[0m\u001b[1;31m:\u001b[0m f-string: unmatched '['\n"
     ]
    }
   ],
   "source": [
    "for record in name_records:\n",
    "    print(f\" {record[\"First name\"]} {record[\"Last name\"]} : {record[\"Age\"]}\")"
   ]
  },
  {
   "cell_type": "code",
   "execution_count": null,
   "id": "65332673",
   "metadata": {},
   "outputs": [],
   "source": []
  },
  {
   "cell_type": "code",
   "execution_count": null,
   "id": "c437d7aa",
   "metadata": {},
   "outputs": [],
   "source": []
  },
  {
   "cell_type": "code",
   "execution_count": null,
   "id": "3f8417cf",
   "metadata": {},
   "outputs": [],
   "source": []
  },
  {
   "cell_type": "code",
   "execution_count": null,
   "id": "426070d0",
   "metadata": {},
   "outputs": [],
   "source": []
  },
  {
   "cell_type": "code",
   "execution_count": null,
   "id": "cd06ba83",
   "metadata": {},
   "outputs": [],
   "source": []
  },
  {
   "cell_type": "code",
   "execution_count": null,
   "id": "d2bdd6e8",
   "metadata": {},
   "outputs": [],
   "source": []
  },
  {
   "cell_type": "code",
   "execution_count": null,
   "id": "800d4003",
   "metadata": {},
   "outputs": [],
   "source": []
  },
  {
   "cell_type": "code",
   "execution_count": null,
   "id": "fc42438e",
   "metadata": {},
   "outputs": [],
   "source": []
  },
  {
   "cell_type": "code",
   "execution_count": null,
   "id": "dd134922",
   "metadata": {},
   "outputs": [],
   "source": []
  }
 ],
 "metadata": {
  "kernelspec": {
   "display_name": "Python 3 (ipykernel)",
   "language": "python",
   "name": "python3"
  },
  "language_info": {
   "codemirror_mode": {
    "name": "ipython",
    "version": 3
   },
   "file_extension": ".py",
   "mimetype": "text/x-python",
   "name": "python",
   "nbconvert_exporter": "python",
   "pygments_lexer": "ipython3",
   "version": "3.10.10"
  }
 },
 "nbformat": 4,
 "nbformat_minor": 5
}
